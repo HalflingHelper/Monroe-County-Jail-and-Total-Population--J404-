{
 "cells": [
  {
   "cell_type": "code",
   "execution_count": 1,
   "metadata": {},
   "outputs": [],
   "source": [
    "import pandas as pd"
   ]
  },
  {
   "cell_type": "markdown",
   "metadata": {},
   "source": []
  },
  {
   "cell_type": "code",
   "execution_count": 2,
   "metadata": {},
   "outputs": [],
   "source": [
    "def load_file(path, cty_fips):\n",
    "    return pd.read_csv(path).query(f'COUNTY=={cty_fips}')"
   ]
  },
  {
   "cell_type": "code",
   "execution_count": 33,
   "metadata": {},
   "outputs": [],
   "source": [
    "def filter_rows(df, year_s, year_e, age_grp, init_y):\n",
    "    r = df.query(f\"YEAR >= {year_s} and YEAR <= {year_e} and AGEGRP=={age_grp}\")\n",
    "    r['YEAR'] = r['YEAR'].apply(lambda x : x - year_s + init_y)\n",
    "    return r"
   ]
  },
  {
   "cell_type": "code",
   "execution_count": 34,
   "metadata": {},
   "outputs": [],
   "source": [
    "df_2000 = load_file(\"cc-est2009-alldata-18.csv\", 105)\n",
    "# yrs 3-12\n",
    "\n",
    "df_2010 = load_file(\"cc-est2019-alldata-18.csv\", 105)\n",
    "# yrs. 3-12\n",
    "\n",
    "df_2020 = load_file(\"cc-est2023-alldata-18.csv\", 105)\n",
    "# yrs. 3-5"
   ]
  },
  {
   "cell_type": "code",
   "execution_count": 35,
   "metadata": {},
   "outputs": [
    {
     "name": "stderr",
     "output_type": "stream",
     "text": [
      "/tmp/ipykernel_41256/92264952.py:3: SettingWithCopyWarning: \n",
      "A value is trying to be set on a copy of a slice from a DataFrame.\n",
      "Try using .loc[row_indexer,col_indexer] = value instead\n",
      "\n",
      "See the caveats in the documentation: https://pandas.pydata.org/pandas-docs/stable/user_guide/indexing.html#returning-a-view-versus-a-copy\n",
      "  r['YEAR'] = r['YEAR'].apply(lambda x : x - year_s + init_y)\n",
      "/tmp/ipykernel_41256/92264952.py:3: SettingWithCopyWarning: \n",
      "A value is trying to be set on a copy of a slice from a DataFrame.\n",
      "Try using .loc[row_indexer,col_indexer] = value instead\n",
      "\n",
      "See the caveats in the documentation: https://pandas.pydata.org/pandas-docs/stable/user_guide/indexing.html#returning-a-view-versus-a-copy\n",
      "  r['YEAR'] = r['YEAR'].apply(lambda x : x - year_s + init_y)\n",
      "/tmp/ipykernel_41256/92264952.py:3: SettingWithCopyWarning: \n",
      "A value is trying to be set on a copy of a slice from a DataFrame.\n",
      "Try using .loc[row_indexer,col_indexer] = value instead\n",
      "\n",
      "See the caveats in the documentation: https://pandas.pydata.org/pandas-docs/stable/user_guide/indexing.html#returning-a-view-versus-a-copy\n",
      "  r['YEAR'] = r['YEAR'].apply(lambda x : x - year_s + init_y)\n"
     ]
    }
   ],
   "source": [
    "# Agegrp 0 = total\n",
    "df_2000 = filter_rows(df_2000, 3, 12, 0, 2000)\n",
    "df_2010 = filter_rows(df_2010, 3, 12, 0, 2010)\n",
    "df_2020 = filter_rows(df_2020, 2, 5, 0, 2020)"
   ]
  },
  {
   "cell_type": "code",
   "execution_count": 37,
   "metadata": {},
   "outputs": [],
   "source": [
    "df_all = pd.concat([df_2000, df_2010, df_2020])\n"
   ]
  },
  {
   "cell_type": "code",
   "execution_count": 58,
   "metadata": {},
   "outputs": [],
   "source": [
    "gender_suffix = [\"_MALE\", \"_FEMALE\"]\n",
    "\n",
    "# Best overcounting is taking combination of all but white!\n",
    "races = {\n",
    "  (\"NHAAC\", \"NHNAC\"): \"Non-hispanic AAPI\",\n",
    "  (\"NHBAC\",): \"Black (combination) Non-Hispanic\",\n",
    "  (\"NHIAC\",): \"Non-hispanic indian / alaskan native\",\n",
    "  (\"HBAC\",): \"Black  Hispanic\",\n",
    "  (\"HWA\",): \"White hispanic\",\n",
    "  (\"HIAC\",): \"Hispanic indian alaskan\",\n",
    "  (\"HAAC\", \"HNAC\"): \"Hispanic aapi\",\n",
    "  # Unknown?\n",
    "  (\"NHWA\",): \"Non-hispanic, white\"\n",
    "}"
   ]
  },
  {
   "cell_type": "code",
   "execution_count": 61,
   "metadata": {},
   "outputs": [],
   "source": [
    "agg = pd.DataFrame()\n",
    "agg['YEAR'] = df_all['YEAR']\n",
    "agg['TOT_POP'] = df_all['TOT_POP']\n",
    "\n",
    "\n",
    "for k in races:\n",
    "  s = []\n",
    "  for pre in k:\n",
    "    s += [pre + g for g in gender_suffix]\n",
    "    pass\n",
    "  agg[races[k]] = df_all[s].sum(axis = 1)\n",
    "\n",
    "\n",
    "agg['tot_man'] = agg[list(races.values())].sum(axis=1)\n",
    "agg['err'] = agg['TOT_POP'] - agg['tot_man']\n"
   ]
  },
  {
   "cell_type": "code",
   "execution_count": 62,
   "metadata": {},
   "outputs": [],
   "source": [
    "agg.to_csv(\"aggregate.csv\")"
   ]
  }
 ],
 "metadata": {
  "kernelspec": {
   "display_name": "Python 3",
   "language": "python",
   "name": "python3"
  },
  "language_info": {
   "codemirror_mode": {
    "name": "ipython",
    "version": 3
   },
   "file_extension": ".py",
   "mimetype": "text/x-python",
   "name": "python",
   "nbconvert_exporter": "python",
   "pygments_lexer": "ipython3",
   "version": "3.12.3"
  }
 },
 "nbformat": 4,
 "nbformat_minor": 2
}
